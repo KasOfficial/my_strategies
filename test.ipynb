{
 "cells": [
  {
   "cell_type": "code",
   "execution_count": 32,
   "metadata": {},
   "outputs": [
    {
     "name": "stdout",
     "output_type": "stream",
     "text": [
      "The autoreload extension is already loaded. To reload it, use:\n",
      "  %reload_ext autoreload\n"
     ]
    }
   ],
   "source": [
    "import numpy as np\n",
    "from quantfreedom.exchanges.bybit_exchange.bybit import Bybit\n",
    "from my_stuff import BybitTestKeys\n",
    "np.set_printoptions(formatter={\"float_kind\": \"{:0.1f}\".format})\n",
    "\n",
    "%load_ext autoreload\n",
    "%autoreload 2"
   ]
  },
  {
   "cell_type": "code",
   "execution_count": 31,
   "metadata": {},
   "outputs": [],
   "source": [
    "bybit_test = Bybit(\n",
    "    api_key=BybitTestKeys.api_key,\n",
    "    secret_key=BybitTestKeys.secret_key,\n",
    "    use_test_net=True\n",
    ")"
   ]
  },
  {
   "cell_type": "code",
   "execution_count": 30,
   "metadata": {},
   "outputs": [
    {
     "data": {
      "text/plain": [
       "'SUCCESS'"
      ]
     },
     "execution_count": 30,
     "metadata": {},
     "output_type": "execute_result"
    }
   ],
   "source": [
    "bybit_test.upgrade_to_unified_trading_account()"
   ]
  },
  {
   "cell_type": "code",
   "execution_count": 29,
   "metadata": {},
   "outputs": [
    {
     "data": {
      "text/plain": [
       "[{'symbol': 'BTCUSDT',\n",
       "  'leverage': '100',\n",
       "  'autoAddMargin': 0,\n",
       "  'avgPrice': '62315.8',\n",
       "  'liqPrice': '62004.3',\n",
       "  'riskLimitValue': '2000000',\n",
       "  'takeProfit': '',\n",
       "  'positionValue': '249.2632',\n",
       "  'isReduceOnly': False,\n",
       "  'tpslMode': 'Full',\n",
       "  'riskId': 1,\n",
       "  'trailingStop': '0',\n",
       "  'unrealisedPnl': '-0.11332',\n",
       "  'markPrice': '62287.47',\n",
       "  'adlRankIndicator': 2,\n",
       "  'cumRealisedPnl': '0.99167101',\n",
       "  'positionMM': '1.38203982',\n",
       "  'createdTime': '1709230305771',\n",
       "  'positionIdx': 1,\n",
       "  'positionIM': '2.62835582',\n",
       "  'seq': 8971530893,\n",
       "  'updatedTime': '1709477164307',\n",
       "  'side': 'Buy',\n",
       "  'bustPrice': '',\n",
       "  'positionBalance': '2.62835582',\n",
       "  'leverageSysUpdatedTime': '',\n",
       "  'curRealisedPnl': '-0.13709476',\n",
       "  'size': '0.004',\n",
       "  'positionStatus': 'Normal',\n",
       "  'mmrSysUpdatedTime': '',\n",
       "  'stopLoss': '',\n",
       "  'tradeMode': 0,\n",
       "  'sessionAvgPrice': ''},\n",
       " {'symbol': 'BTCUSDT',\n",
       "  'leverage': '100',\n",
       "  'autoAddMargin': 0,\n",
       "  'avgPrice': '0',\n",
       "  'liqPrice': '',\n",
       "  'riskLimitValue': '2000000',\n",
       "  'takeProfit': '',\n",
       "  'positionValue': '',\n",
       "  'isReduceOnly': False,\n",
       "  'tpslMode': 'Full',\n",
       "  'riskId': 1,\n",
       "  'trailingStop': '0',\n",
       "  'unrealisedPnl': '',\n",
       "  'markPrice': '62287.47',\n",
       "  'adlRankIndicator': 0,\n",
       "  'cumRealisedPnl': '0',\n",
       "  'positionMM': '0',\n",
       "  'createdTime': '1709230305771',\n",
       "  'positionIdx': 2,\n",
       "  'positionIM': '0',\n",
       "  'seq': -1,\n",
       "  'updatedTime': '1709474587555',\n",
       "  'side': '',\n",
       "  'bustPrice': '',\n",
       "  'positionBalance': '0',\n",
       "  'leverageSysUpdatedTime': '',\n",
       "  'curRealisedPnl': '0',\n",
       "  'size': '0',\n",
       "  'positionStatus': 'Normal',\n",
       "  'mmrSysUpdatedTime': '',\n",
       "  'stopLoss': '',\n",
       "  'tradeMode': 0,\n",
       "  'sessionAvgPrice': ''}]"
      ]
     },
     "execution_count": 29,
     "metadata": {},
     "output_type": "execute_result"
    }
   ],
   "source": [
    "bybit_test.get_position_info(symbol=\"BTCUSDT\")\n"
   ]
  },
  {
   "cell_type": "code",
   "execution_count": 37,
   "metadata": {},
   "outputs": [
    {
     "ename": "Exception",
     "evalue": "Bybit get_order_history = Data or List is empty OK -> list index out of range",
     "output_type": "error",
     "traceback": [
      "\u001b[1;31m---------------------------------------------------------------------------\u001b[0m",
      "\u001b[1;31mIndexError\u001b[0m                                Traceback (most recent call last)",
      "File \u001b[1;32m~\\coding\\QuantFreedom\\quantfreedom\\exchanges\\bybit_exchange\\bybit.py:456\u001b[0m, in \u001b[0;36mBybit.get_order_history\u001b[1;34m(self, baseCoin, category, custom_order_id, limit, orderFilter, orderStatus, order_id, settleCoin, since_datetime, symbol, until_datetime)\u001b[0m\n\u001b[0;32m    455\u001b[0m data_list \u001b[38;5;241m=\u001b[39m response[\u001b[38;5;124m\"\u001b[39m\u001b[38;5;124mresult\u001b[39m\u001b[38;5;124m\"\u001b[39m][\u001b[38;5;124m\"\u001b[39m\u001b[38;5;124mlist\u001b[39m\u001b[38;5;124m\"\u001b[39m]\n\u001b[1;32m--> 456\u001b[0m \u001b[43mdata_list\u001b[49m\u001b[43m[\u001b[49m\u001b[38;5;241;43m0\u001b[39;49m\u001b[43m]\u001b[49m  \u001b[38;5;66;03m# try this to see if anything is in here\u001b[39;00m\n\u001b[0;32m    457\u001b[0m \u001b[38;5;28;01mreturn\u001b[39;00m data_list\n",
      "\u001b[1;31mIndexError\u001b[0m: list index out of range",
      "\nDuring handling of the above exception, another exception occurred:\n",
      "\u001b[1;31mException\u001b[0m                                 Traceback (most recent call last)",
      "Cell \u001b[1;32mIn[37], line 1\u001b[0m\n\u001b[1;32m----> 1\u001b[0m \u001b[43mbybit_test\u001b[49m\u001b[38;5;241;43m.\u001b[39;49m\u001b[43mget_order_history\u001b[49m\u001b[43m(\u001b[49m\u001b[43morder_id\u001b[49m\u001b[38;5;241;43m=\u001b[39;49m\u001b[43m  \u001b[49m\u001b[38;5;124;43m'\u001b[39;49m\u001b[38;5;124;43m2a71af82-03ce-4706-b52d-9e2b33d63999\u001b[39;49m\u001b[38;5;124;43m'\u001b[39;49m\u001b[43m)\u001b[49m\n",
      "File \u001b[1;32m~\\coding\\QuantFreedom\\quantfreedom\\exchanges\\bybit_exchange\\bybit.py:459\u001b[0m, in \u001b[0;36mBybit.get_order_history\u001b[1;34m(self, baseCoin, category, custom_order_id, limit, orderFilter, orderStatus, order_id, settleCoin, since_datetime, symbol, until_datetime)\u001b[0m\n\u001b[0;32m    457\u001b[0m     \u001b[38;5;28;01mreturn\u001b[39;00m data_list\n\u001b[0;32m    458\u001b[0m \u001b[38;5;28;01mexcept\u001b[39;00m \u001b[38;5;167;01mException\u001b[39;00m \u001b[38;5;28;01mas\u001b[39;00m e:\n\u001b[1;32m--> 459\u001b[0m     \u001b[38;5;28;01mraise\u001b[39;00m \u001b[38;5;167;01mException\u001b[39;00m(\u001b[38;5;124mf\u001b[39m\u001b[38;5;124m\"\u001b[39m\u001b[38;5;124mBybit get_order_history = Data or List is empty \u001b[39m\u001b[38;5;132;01m{\u001b[39;00mresponse[\u001b[38;5;124m'\u001b[39m\u001b[38;5;124mretMsg\u001b[39m\u001b[38;5;124m'\u001b[39m]\u001b[38;5;132;01m}\u001b[39;00m\u001b[38;5;124m -> \u001b[39m\u001b[38;5;132;01m{\u001b[39;00me\u001b[38;5;132;01m}\u001b[39;00m\u001b[38;5;124m\"\u001b[39m)\n",
      "\u001b[1;31mException\u001b[0m: Bybit get_order_history = Data or List is empty OK -> list index out of range"
     ]
    }
   ],
   "source": [
    "bybit_test.get_order_history(order_id=  '2a71af82-03ce-4706-b52d-9e2b33d63999')"
   ]
  },
  {
   "cell_type": "code",
   "execution_count": 38,
   "metadata": {},
   "outputs": [
    {
     "data": {
      "text/plain": [
       "[{'symbol': 'BTCUSDT',\n",
       "  'orderType': 'Market',\n",
       "  'orderLinkId': '',\n",
       "  'slLimitPrice': '0',\n",
       "  'orderId': '2a71af82-03ce-4706-b52d-9e2b33d63999',\n",
       "  'cancelType': 'CancelByUser',\n",
       "  'avgPrice': '',\n",
       "  'stopOrderType': 'Stop',\n",
       "  'lastPriceOnCreated': '62321.7',\n",
       "  'orderStatus': 'Deactivated',\n",
       "  'createType': 'CreateByStopOrder',\n",
       "  'takeProfit': '',\n",
       "  'cumExecValue': '0',\n",
       "  'tpslMode': '',\n",
       "  'smpType': 'None',\n",
       "  'triggerDirection': 2,\n",
       "  'blockTradeId': '',\n",
       "  'rejectReason': 'EC_NoError',\n",
       "  'isLeverage': '',\n",
       "  'price': '0',\n",
       "  'orderIv': '',\n",
       "  'createdTime': '1709477167607',\n",
       "  'tpTriggerBy': '',\n",
       "  'positionIdx': 1,\n",
       "  'timeInForce': 'IOC',\n",
       "  'leavesValue': '0',\n",
       "  'updatedTime': '1709480310654',\n",
       "  'side': 'Sell',\n",
       "  'smpGroup': 0,\n",
       "  'triggerPrice': '62124.4',\n",
       "  'tpLimitPrice': '0',\n",
       "  'cumExecFee': '0',\n",
       "  'slTriggerBy': '',\n",
       "  'leavesQty': '0',\n",
       "  'closeOnTrigger': False,\n",
       "  'placeType': '',\n",
       "  'cumExecQty': '0',\n",
       "  'reduceOnly': True,\n",
       "  'qty': '0.004',\n",
       "  'stopLoss': '',\n",
       "  'smpOrderId': '',\n",
       "  'triggerBy': 'LastPrice'}]"
      ]
     },
     "execution_count": 38,
     "metadata": {},
     "output_type": "execute_result"
    }
   ],
   "source": [
    "bybit_test.get_order_history(order_id = '2a71af82-03ce-4706-b52d-9e2b33d63999')"
   ]
  },
  {
   "cell_type": "code",
   "execution_count": null,
   "metadata": {},
   "outputs": [],
   "source": []
  }
 ],
 "metadata": {
  "kernelspec": {
   "display_name": "qfree",
   "language": "python",
   "name": "python3"
  },
  "language_info": {
   "codemirror_mode": {
    "name": "ipython",
    "version": 3
   },
   "file_extension": ".py",
   "mimetype": "text/x-python",
   "name": "python",
   "nbconvert_exporter": "python",
   "pygments_lexer": "ipython3",
   "version": "3.11.5"
  }
 },
 "nbformat": 4,
 "nbformat_minor": 2
}
